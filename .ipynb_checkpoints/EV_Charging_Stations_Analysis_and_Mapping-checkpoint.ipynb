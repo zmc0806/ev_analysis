{
 "cells": [
  {
   "cell_type": "code",
   "execution_count": null,
   "id": "5ca5d2bf",
   "metadata": {},
   "outputs": [],
   "source": [
    "# Load the CSV files\n",
    "ev_file_path = 'data/alt_fuel_stations.csv'\n",
    "filtered_ev_file_path = 'data/filtered_alt_fuel_stations.csv'\n",
    "sdge_file_path = 'data/SDGE-ELEC-2024-Q3.csv'\n",
    "# sdge_file_2023_q1 =  'SDGE-ELEC-2023-Q1.csv'\n",
    "# sdge_file_2023_q2 =  'SDGE-ELEC-2023-Q2.csv'\n",
    "# sdge_file_2023_q3 =  'SDGE-ELEC-2023-Q3.csv'\n",
    "# sdge_file_2023_q4 =  'SDGE-ELEC-2023-Q4.csv'\n",
    "\n"
   ]
  },
  {
   "cell_type": "code",
   "execution_count": null,
   "id": "77e13a19",
   "metadata": {},
   "outputs": [],
   "source": [
    "ev_chargers_df = pd.read_csv(ev_file_path)\n",
    "ev_chargers_in_sdge_area = pd.read_csv(filtered_ev_file_path)\n",
    "sdge_data_df = pd.read_csv(sdge_file_path)"
   ]
  },
  {
   "cell_type": "code",
   "execution_count": null,
   "id": "8425bc96",
   "metadata": {},
   "outputs": [],
   "source": [
    "san_diego_df = ev_chargers_df[ev_chargers_df['City'] == 'San Diego']\n"
   ]
  },
  {
   "cell_type": "code",
   "execution_count": null,
   "id": "65d36894",
   "metadata": {},
   "outputs": [],
   "source": [
    "num_ev_chargers_in_sd_area = san_diego_df.shape[0]\n",
    "\n",
    "# Display the result\n",
    "print(f'The number of EV chargers in the San Diego service area is: {num_ev_chargers_in_sd_area}')\n"
   ]
  },
  {
   "cell_type": "code",
   "execution_count": null,
   "id": "9c7e250b",
   "metadata": {},
   "outputs": [],
   "source": [
    "# Convert 'Open Date' to datetime and extract the year\n",
    "ev_chargers_df['Open Date'] = pd.to_datetime(ev_chargers_df['Open Date'], errors='coerce')  # Convert to datetime, errors as NaT\n",
    "ev_chargers_df['Open Year'] = ev_chargers_df['Open Date'].dt.year  # Extract the year\n",
    "\n",
    "# Group by year to count the number of stations opened each year\n",
    "stations_per_year = ev_chargers_df.groupby('Open Year').size().reset_index(name='Number of Stations Opened')"
   ]
  },
  {
   "cell_type": "code",
   "execution_count": null,
   "id": "d78e59d9",
   "metadata": {},
   "outputs": [],
   "source": [
    "stations_per_year"
   ]
  },
  {
   "cell_type": "code",
   "execution_count": null,
   "id": "f1466ee2",
   "metadata": {},
   "outputs": [],
   "source": [
    "# Plot the time series of stations opened each year\n",
    "plt.figure(figsize=(10, 6))\n",
    "plt.plot(stations_per_year['Open Year'], stations_per_year['Number of Stations Opened'], marker='o')\n",
    "plt.title('Number of Charging Stations Opened Each Year')\n",
    "plt.xlabel('Year')\n",
    "plt.ylabel('Number of Stations Opened')\n",
    "plt.grid(True)\n",
    "plt.show()\n"
   ]
  },
  {
   "cell_type": "code",
   "execution_count": null,
   "id": "b602f921",
   "metadata": {},
   "outputs": [],
   "source": [
    "# Geospatial plot: using Latitude and Longitude columns\n",
    "# Clean the data to remove rows with missing or non-numeric values in Latitude and Longitude\n",
    "\n",
    "ev_chargers_df_geo_clean = ev_chargers_df.dropna(subset=['Latitude', 'Longitude']).copy()  # Make an explicit copy\n",
    "ev_chargers_df_geo_clean.loc[:, 'Latitude'] = pd.to_numeric(ev_chargers_df_geo_clean['Latitude'], errors='coerce')\n",
    "ev_chargers_df_geo_clean.loc[:, 'Longitude'] = pd.to_numeric(ev_chargers_df_geo_clean['Longitude'], errors='coerce')\n",
    "\n",
    "# Simple scatter plot of geospatial data\n",
    "plt.figure(figsize=(10, 6))\n",
    "plt.scatter(ev_chargers_df_geo_clean['Longitude'], ev_chargers_df_geo_clean['Latitude'], c='blue', alpha=0.6, s=10)\n",
    "plt.title('Geospatial Distribution of Charging Stations')\n",
    "plt.xlabel('Longitude')\n",
    "plt.ylabel('Latitude')\n",
    "plt.grid(True)\n",
    "plt.show()"
   ]
  },
  {
   "cell_type": "code",
   "execution_count": null,
   "id": "8def7b3b",
   "metadata": {},
   "outputs": [],
   "source": [
    "# Re-import necessary libraries in case of environment reset\n",
    "\n",
    "# Load the dataset again\n",
    "alt_fuel_stations = ev_chargers_in_sdge_area\n",
    "\n",
    "# Filter out rows with non-numeric Latitude and Longitude values\n",
    "alt_fuel_stations_clean = alt_fuel_stations[pd.to_numeric(alt_fuel_stations['latitude'], errors='coerce').notnull() & \n",
    "                                            pd.to_numeric(alt_fuel_stations['longitude'], errors='coerce').notnull()]\n",
    "\n",
    "# Convert Latitude and Longitude columns to numeric\n",
    "alt_fuel_stations_clean['latitude'] = pd.to_numeric(alt_fuel_stations_clean['latitude'])\n",
    "alt_fuel_stations_clean['longitude'] = pd.to_numeric(alt_fuel_stations_clean['longitude'])\n",
    "\n",
    "# Create a GeoDataFrame for all EV charging stations\n",
    "all_ev_stations_gdf = gpd.GeoDataFrame(\n",
    "    alt_fuel_stations_clean,\n",
    "    geometry=gpd.points_from_xy(alt_fuel_stations_clean.longitude, alt_fuel_stations_clean.latitude),\n",
    "    crs=\"EPSG:4326\"\n",
    ")\n",
    "\n",
    "# Plotting all EV charging stations using Folium\n",
    "all_ev_map = folium.Map(location=[32.7157, -117.1611], zoom_start=10)\n",
    "for _, row in all_ev_stations_gdf.iterrows():\n",
    "    popup_text = f\"\"\"\n",
    "    <b>Station Name:</b> {row['station_name']}<br>\n",
    "    <b>Street Address:</b> {row['street_address']}<br>\n",
    "    <b>City:</b> {row['city']}<br>\n",
    "    <b>ZIP Code:</b> {row['zip']}<br>\n",
    "    <b>Fuel Type:</b> {row['fuel_type_code']}<br>\n",
    "    <b>EV Network:</b> {row['ev_network']}<br>\n",
    "    \"\"\"\n",
    "    folium.Marker(\n",
    "        location=[row['latitude'], row['longitude']],\n",
    "        popup=folium.Popup(popup_text, max_width=300),\n",
    "        icon=folium.Icon(color='blue', icon='info-sign')\n",
    "    ).add_to(all_ev_map)\n",
    "\n",
    "\n",
    "# Save and display map for all EV charging stations\n",
    "all_ev_map.save('all_ev_stations_map.html')\n",
    "all_ev_map\n"
   ]
  }
 ],
 "metadata": {
  "kernelspec": {
   "display_name": "Python 3 (ipykernel)",
   "language": "python",
   "name": "python3"
  },
  "language_info": {
   "codemirror_mode": {
    "name": "ipython",
    "version": 3
   },
   "file_extension": ".py",
   "mimetype": "text/x-python",
   "name": "python",
   "nbconvert_exporter": "python",
   "pygments_lexer": "ipython3",
   "version": "3.11.5"
  }
 },
 "nbformat": 4,
 "nbformat_minor": 5
}
