{
 "cells": [
  {
   "cell_type": "code",
   "execution_count": 7,
   "id": "e5164731",
   "metadata": {},
   "outputs": [],
   "source": [
    "import requests\n",
    "import json\n",
    "import pandas as pd"
   ]
  },
  {
   "cell_type": "code",
   "execution_count": 3,
   "id": "24cca911",
   "metadata": {},
   "outputs": [
    {
     "name": "stdout",
     "output_type": "stream",
     "text": [
      "The data is successfully downloaded and saved as alt_fuel_stations.json\n"
     ]
    },
    {
     "name": "stderr",
     "output_type": "stream",
     "text": [
      "/var/folders/xc/6jdw4jhn5_79w695j45v4rtr0000gn/T/ipykernel_90007/4251552286.py:26: DtypeWarning: Columns (6,20,31,46,73) have mixed types. Specify dtype option on import or set low_memory=False.\n",
      "  df = pd.read_csv(csv_url)\n"
     ]
    },
    {
     "name": "stdout",
     "output_type": "stream",
     "text": [
      "The data is successfully downloaded and saved as alt_fuel_stations.csv\n",
      "The filtered data is successfully saved as filtered_alt_fuel_stations.csv\n"
     ]
    }
   ],
   "source": [
    "# Load configuration from config.json\n",
    "with open('config/config.json', 'r') as config_file:\n",
    "    config = json.load(config_file)\n",
    "\n",
    "api_key = config['api_key']\n",
    "base_url = config['base_url']\n",
    "state = config['state']\n",
    "fuel_type = config['fuel_type']\n",
    "\n",
    "# Download JSON data\n",
    "url = f\"{base_url}.json?api_key={api_key}&fuel_type={fuel_type}&state={state}\"\n",
    "response = requests.get(url)\n",
    "\n",
    "# Check response status\n",
    "if response.status_code == 200:\n",
    "    data = response.json()\n",
    "    # Save as JSON file\n",
    "    with open('data/alt_fuel_stations.json', 'w') as f:\n",
    "        json.dump(data, f, indent=4)\n",
    "    print(\"The data is successfully downloaded and saved as alt_fuel_stations.json\")\n",
    "else:\n",
    "    print(f\"Request failed, status code: {response.status_code}, error message: {response.text}\")\n",
    "\n",
    "# Download CSV data\n",
    "csv_url = f\"{base_url}.csv?api_key={api_key}&fuel_type={fuel_type}&state={state}\"\n",
    "df = pd.read_csv(csv_url)\n",
    "df.to_csv('data/alt_fuel_stations.csv', index=False)\n",
    "print(\"The data is successfully downloaded and saved as alt_fuel_stations.csv\")\n",
    "\n",
    "# Load SDG&E service territory zip codes\n",
    "sdge_zipcode = pd.read_excel('data/SDGE Service Territory Zip Code List Q2-2021.xlsx')\n",
    "zip_codes = \",\".join(sdge_zipcode['ZIP_CODE'].astype(str).tolist())\n",
    "\n",
    "# Build the request URL with filters for fuel type, state, and zip codes\n",
    "filtered_url = f\"{base_url}.json?api_key={api_key}&fuel_type={fuel_type}&state={state}&zip={zip_codes}\"\n",
    "\n",
    "# Request the data in JSON format\n",
    "response = requests.get(filtered_url)\n",
    "if response.status_code == 200:\n",
    "    data = response.json()\n",
    "    \n",
    "    # Normalize JSON data to a DataFrame\n",
    "    stations_df = pd.json_normalize(data['fuel_stations'])\n",
    "    \n",
    "    # Save as CSV\n",
    "    stations_df.to_csv('data/filtered_alt_fuel_stations.csv', index=False)\n",
    "    print(\"The filtered data is successfully saved as filtered_alt_fuel_stations.csv\")\n",
    "else:\n",
    "    print(f\"Request failed with status code {response.status_code}: {response.text}\")\n"
   ]
  },
  {
   "cell_type": "code",
   "execution_count": 9,
   "id": "69c1aeb3",
   "metadata": {},
   "outputs": [
    {
     "name": "stdout",
     "output_type": "stream",
     "text": [
      "File successfully downloaded to data/SDGE-ELEC-2024-Q3.csv\n"
     ]
    }
   ],
   "source": [
    "import requests\n",
    "import os\n",
    "\n",
    "# Define the URL and the save path\n",
    "url = 'https://energydata.sdge.com/downloadEnergyUsageFile?name=SDGE-ELEC-2024-Q3.csv'\n",
    "save_path = os.path.join('data', 'SDGE-ELEC-2024-Q3.csv')\n",
    "\n",
    "# Ensure the target folder exists\n",
    "os.makedirs('data', exist_ok=True)\n",
    "\n",
    "# Download the file\n",
    "response = requests.get(url)\n",
    "\n",
    "if response.status_code == 200:\n",
    "    with open(save_path, 'wb') as file:\n",
    "        file.write(response.content)\n",
    "    print(f'File successfully downloaded to {save_path}')\n",
    "else:\n",
    "    print(f'Failed to download the file. Status code: {response.status_code}')\n",
    "\n"
   ]
  },
  {
   "cell_type": "code",
   "execution_count": 6,
   "id": "de754a3e",
   "metadata": {},
   "outputs": [
    {
     "name": "stdout",
     "output_type": "stream",
     "text": [
      "File data/VFT_Count_Zip_2018.csv downloaded successfully\n",
      "File data/VFT_Count_Zip_2019.csv downloaded successfully\n",
      "File data/VFT_Count_Zip_2020.csv downloaded successfully\n",
      "File data/VFT_Count_Zip_2021.csv downloaded successfully\n",
      "File data/VFT_Count_Zip_2022.csv downloaded successfully\n",
      "File data/VFT_Count_Zip_2023.csv downloaded successfully\n"
     ]
    }
   ],
   "source": [
    "import os\n",
    "import requests\n",
    "\n",
    "# Define the list of URLs and corresponding file years\n",
    "urls = [\n",
    "    'https://data.ca.gov/dataset/15179472-adeb-4df6-920a-20640d02b08c/resource/d304108a-06c1-462f-a144-981dd0109900/download/vehicle-fuel-type-count-by-zip-code.csv',\n",
    "    'https://data.ca.gov/dataset/15179472-adeb-4df6-920a-20640d02b08c/resource/4254a06d-9937-4083-9441-65597dd267e8/download/vehicle-count-as-of-1-1-2020.csv',\n",
    "    'https://data.ca.gov/dataset/15179472-adeb-4df6-920a-20640d02b08c/resource/888bbb6c-09b4-469c-82e6-1b2a47439736/download/vehicle-fuel-type-count-by-zip-code-2021.csv',\n",
    "    'https://data.ca.gov/dataset/15179472-adeb-4df6-920a-20640d02b08c/resource/1856386b-a196-4e7c-be81-44174e29ad50/download/vehicle-fuel-type-count-by-zip-code-2022.csv',\n",
    "    'https://data.ca.gov/dataset/15179472-adeb-4df6-920a-20640d02b08c/resource/9aa5b4c5-252c-4d68-b1be-ffe19a2f1d26/download/vehicle-fuel-type-count-by-zip-code-2022.csv',\n",
    "    'https://data.ca.gov/dataset/15179472-adeb-4df6-920a-20640d02b08c/resource/d599c3d3-87af-4e8c-8694-9c01f49e3d93/download/vehicle-fuel-type-count-by-zip-code-20231.csv'\n",
    "]\n",
    "\n",
    "years = [2018, 2019, 2020, 2021, 2022, 2023]\n",
    "\n",
    "# Specify the directory to save files\n",
    "save_dir = 'data/'\n",
    "\n",
    "# Create the directory if it does not exist\n",
    "os.makedirs(save_dir, exist_ok=True)\n",
    "\n",
    "for url, year in zip(urls, years):\n",
    "    response = requests.get(url)\n",
    "    if response.status_code == 200:\n",
    "        # Use a shortened file name and save it to the 'data' folder\n",
    "        file_name = os.path.join(save_dir, f'VFT_Count_Zip_{year}.csv')\n",
    "        with open(file_name, 'wb') as file:\n",
    "            file.write(response.content)\n",
    "        print(f\"File {file_name} downloaded successfully\")\n",
    "    else:\n",
    "        print(f\"Download failed: {url}\")\n"
   ]
  }
 ],
 "metadata": {
  "kernelspec": {
   "display_name": "Python 3 (ipykernel)",
   "language": "python",
   "name": "python3"
  },
  "language_info": {
   "codemirror_mode": {
    "name": "ipython",
    "version": 3
   },
   "file_extension": ".py",
   "mimetype": "text/x-python",
   "name": "python",
   "nbconvert_exporter": "python",
   "pygments_lexer": "ipython3",
   "version": "3.11.5"
  }
 },
 "nbformat": 4,
 "nbformat_minor": 5
}
